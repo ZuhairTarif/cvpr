{
 "cells": [
  {
   "cell_type": "code",
   "execution_count": 4,
   "metadata": {},
   "outputs": [],
   "source": [
    "import cv2\n",
    "import numpy as np\n",
    "import os\n",
    "from tqdm import tqdm\n",
    "import pandas as pd"
   ]
  },
  {
   "cell_type": "code",
   "execution_count": 5,
   "metadata": {},
   "outputs": [],
   "source": [
    "def remove_background_and_label(image_path, output_path, xtl, ytl, xbr, ybr, label):\n",
    "    image = cv2.imread(image_path)\n",
    "    mask = np.zeros_like(image)\n",
    "    mask[ytl:ybr, xtl:xbr, :] = 255\n",
    "    result = np.where(mask != 0, image, 0)\n",
    "    font = cv2.FONT_HERSHEY_SIMPLEX\n",
    "    font_scale = 0.8\n",
    "    font_thickness = 2\n",
    "    font_color = (255, 255, 255)  \n",
    "    label_position = (xtl, ytl - 10) \n",
    "    cv2.putText(result, label, label_position, font, font_scale, font_color, font_thickness, cv2.LINE_AA)\n",
    "    cv2.imwrite(output_path, result)"
   ]
  },
  {
   "cell_type": "code",
   "execution_count": 7,
   "metadata": {},
   "outputs": [],
   "source": [
    "image_dir = 'D:/Journal_Works/tr'\n",
    "csv_file = 'D:/Journal_Works/train.csv'\n",
    "output_dir = 'D:/Journal_Works/train_zzz'\n",
    "df = pd.read_csv(csv_file)"
   ]
  },
  {
   "cell_type": "code",
   "execution_count": 9,
   "metadata": {},
   "outputs": [
    {
     "name": "stderr",
     "output_type": "stream",
     "text": [
      "  0%|          | 20/8025 [00:03<12:03, 11.07it/s]"
     ]
    }
   ],
   "source": [
    "for index, row in tqdm(df.iterrows(), total=len(df)):\n",
    "    img_fName = row['img_fName']\n",
    "    img_w = row['img_w']\n",
    "    img_h = row['img_h']\n",
    "    bbx_xtl = row['bbx_xtl']\n",
    "    bbx_ytl = row['bbx_ytl']\n",
    "    bbx_xbr = row['bbx_xbr']\n",
    "    bbx_ybr = row['bbx_ybr']\n",
    "    class_label = row['class_label']\n",
    "    output_path = os.path.join(output_dir, f'{img_fName}_masked_labeled.jpg')\n",
    "    remove_background_and_label(os.path.join(image_dir, img_fName), output_path, bbx_xtl, bbx_ytl, bbx_xbr, bbx_ybr, class_label)\n",
    "\n",
    "print(\"Background removal and labeling complete.\")"
   ]
  }
 ],
 "metadata": {
  "kernelspec": {
   "display_name": "Python 3",
   "language": "python",
   "name": "python3"
  },
  "language_info": {
   "codemirror_mode": {
    "name": "ipython",
    "version": 3
   },
   "file_extension": ".py",
   "mimetype": "text/x-python",
   "name": "python",
   "nbconvert_exporter": "python",
   "pygments_lexer": "ipython3",
   "version": "3.8.0"
  },
  "orig_nbformat": 4
 },
 "nbformat": 4,
 "nbformat_minor": 2
}
